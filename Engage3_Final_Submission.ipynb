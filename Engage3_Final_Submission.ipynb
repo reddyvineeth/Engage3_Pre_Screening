{
 "cells": [
  {
   "cell_type": "code",
   "execution_count": 1,
   "metadata": {},
   "outputs": [],
   "source": [
    "# import packages\n",
    "import numpy as np\n",
    "import pandas as pd\n",
    "import json\n",
    "import seaborn as sns\n",
    "import matplotlib.pyplot as plt\n",
    "from scipy import stats"
   ]
  },
  {
   "cell_type": "markdown",
   "metadata": {},
   "source": [
    "   ###  Importing the STORES data"
   ]
  },
  {
   "cell_type": "code",
   "execution_count": 2,
   "metadata": {},
   "outputs": [],
   "source": [
    "Frame_StoreData = pd.read_json(r\"C:\\Users\\vinee\\OneDrive\\Desktop\\Fulltime\\Resume_2020\\Engage3\\stores.json\")"
   ]
  },
  {
   "cell_type": "code",
   "execution_count": 3,
   "metadata": {
    "scrolled": true
   },
   "outputs": [
    {
     "data": {
      "text/html": [
       "<div>\n",
       "<style scoped>\n",
       "    .dataframe tbody tr th:only-of-type {\n",
       "        vertical-align: middle;\n",
       "    }\n",
       "\n",
       "    .dataframe tbody tr th {\n",
       "        vertical-align: top;\n",
       "    }\n",
       "\n",
       "    .dataframe thead th {\n",
       "        text-align: right;\n",
       "    }\n",
       "</style>\n",
       "<table border=\"1\" class=\"dataframe\">\n",
       "  <thead>\n",
       "    <tr style=\"text-align: right;\">\n",
       "      <th></th>\n",
       "      <th>Store ID</th>\n",
       "      <th>Banner</th>\n",
       "      <th>Region</th>\n",
       "    </tr>\n",
       "  </thead>\n",
       "  <tbody>\n",
       "    <tr>\n",
       "      <td>0</td>\n",
       "      <td>66999</td>\n",
       "      <td>Walmart</td>\n",
       "      <td>Northern California</td>\n",
       "    </tr>\n",
       "    <tr>\n",
       "      <td>1</td>\n",
       "      <td>4698</td>\n",
       "      <td>Trader Joes</td>\n",
       "      <td>Northern California</td>\n",
       "    </tr>\n",
       "    <tr>\n",
       "      <td>2</td>\n",
       "      <td>39482</td>\n",
       "      <td>Safeway</td>\n",
       "      <td>Northern California</td>\n",
       "    </tr>\n",
       "    <tr>\n",
       "      <td>3</td>\n",
       "      <td>34957</td>\n",
       "      <td>Whole Foods</td>\n",
       "      <td>Northern California</td>\n",
       "    </tr>\n",
       "    <tr>\n",
       "      <td>4</td>\n",
       "      <td>12837</td>\n",
       "      <td>Walmart</td>\n",
       "      <td>New York</td>\n",
       "    </tr>\n",
       "  </tbody>\n",
       "</table>\n",
       "</div>"
      ],
      "text/plain": [
       "   Store ID       Banner               Region\n",
       "0     66999      Walmart  Northern California\n",
       "1      4698  Trader Joes  Northern California\n",
       "2     39482      Safeway  Northern California\n",
       "3     34957  Whole Foods  Northern California\n",
       "4     12837      Walmart             New York"
      ]
     },
     "execution_count": 3,
     "metadata": {},
     "output_type": "execute_result"
    }
   ],
   "source": [
    "Frame_StoreData.head()"
   ]
  },
  {
   "cell_type": "markdown",
   "metadata": {},
   "source": [
    "###   Importing the PRICES data"
   ]
  },
  {
   "cell_type": "code",
   "execution_count": 4,
   "metadata": {},
   "outputs": [],
   "source": [
    "Frame_PricesData = pd.read_csv(r'C:\\Users\\vinee\\OneDrive\\Desktop\\Fulltime\\Resume_2020\\Engage3\\prices.csv')"
   ]
  },
  {
   "cell_type": "code",
   "execution_count": 5,
   "metadata": {},
   "outputs": [
    {
     "data": {
      "text/html": [
       "<div>\n",
       "<style scoped>\n",
       "    .dataframe tbody tr th:only-of-type {\n",
       "        vertical-align: middle;\n",
       "    }\n",
       "\n",
       "    .dataframe tbody tr th {\n",
       "        vertical-align: top;\n",
       "    }\n",
       "\n",
       "    .dataframe thead th {\n",
       "        text-align: right;\n",
       "    }\n",
       "</style>\n",
       "<table border=\"1\" class=\"dataframe\">\n",
       "  <thead>\n",
       "    <tr style=\"text-align: right;\">\n",
       "      <th></th>\n",
       "      <th>Auditor ID</th>\n",
       "      <th>Date</th>\n",
       "      <th>Price</th>\n",
       "      <th>Store ID</th>\n",
       "      <th>UPC</th>\n",
       "    </tr>\n",
       "  </thead>\n",
       "  <tbody>\n",
       "    <tr>\n",
       "      <td>0</td>\n",
       "      <td>234</td>\n",
       "      <td>10/18/2017</td>\n",
       "      <td>24.95</td>\n",
       "      <td>66999</td>\n",
       "      <td>268588472</td>\n",
       "    </tr>\n",
       "    <tr>\n",
       "      <td>1</td>\n",
       "      <td>234</td>\n",
       "      <td>10/27/2017</td>\n",
       "      <td>49.71</td>\n",
       "      <td>66999</td>\n",
       "      <td>475245085</td>\n",
       "    </tr>\n",
       "    <tr>\n",
       "      <td>2</td>\n",
       "      <td>234</td>\n",
       "      <td>10/20/2017</td>\n",
       "      <td>25.75</td>\n",
       "      <td>66999</td>\n",
       "      <td>126967843</td>\n",
       "    </tr>\n",
       "    <tr>\n",
       "      <td>3</td>\n",
       "      <td>234</td>\n",
       "      <td>10/23/2017</td>\n",
       "      <td>18.81</td>\n",
       "      <td>66999</td>\n",
       "      <td>708930835</td>\n",
       "    </tr>\n",
       "    <tr>\n",
       "      <td>4</td>\n",
       "      <td>234</td>\n",
       "      <td>10/23/2017</td>\n",
       "      <td>33.32</td>\n",
       "      <td>66999</td>\n",
       "      <td>325885139</td>\n",
       "    </tr>\n",
       "  </tbody>\n",
       "</table>\n",
       "</div>"
      ],
      "text/plain": [
       "   Auditor ID        Date  Price  Store ID        UPC\n",
       "0         234  10/18/2017  24.95     66999  268588472\n",
       "1         234  10/27/2017  49.71     66999  475245085\n",
       "2         234  10/20/2017  25.75     66999  126967843\n",
       "3         234  10/23/2017  18.81     66999  708930835\n",
       "4         234  10/23/2017  33.32     66999  325885139"
      ]
     },
     "execution_count": 5,
     "metadata": {},
     "output_type": "execute_result"
    }
   ],
   "source": [
    "Frame_PricesData.head()"
   ]
  },
  {
   "cell_type": "markdown",
   "metadata": {},
   "source": [
    "###  Importing the AUDITOR data"
   ]
  },
  {
   "cell_type": "code",
   "execution_count": 6,
   "metadata": {},
   "outputs": [],
   "source": [
    "Frame_AuditorData = pd.read_csv(r'C:\\Users\\vinee\\OneDrive\\Desktop\\Fulltime\\Resume_2020\\Engage3\\auditors.csv')"
   ]
  },
  {
   "cell_type": "code",
   "execution_count": 7,
   "metadata": {},
   "outputs": [
    {
     "data": {
      "text/html": [
       "<div>\n",
       "<style scoped>\n",
       "    .dataframe tbody tr th:only-of-type {\n",
       "        vertical-align: middle;\n",
       "    }\n",
       "\n",
       "    .dataframe tbody tr th {\n",
       "        vertical-align: top;\n",
       "    }\n",
       "\n",
       "    .dataframe thead th {\n",
       "        text-align: right;\n",
       "    }\n",
       "</style>\n",
       "<table border=\"1\" class=\"dataframe\">\n",
       "  <thead>\n",
       "    <tr style=\"text-align: right;\">\n",
       "      <th></th>\n",
       "      <th>Auditor ID</th>\n",
       "      <th>First</th>\n",
       "      <th>Last</th>\n",
       "      <th>Region</th>\n",
       "    </tr>\n",
       "  </thead>\n",
       "  <tbody>\n",
       "    <tr>\n",
       "      <td>0</td>\n",
       "      <td>234</td>\n",
       "      <td>Sue</td>\n",
       "      <td>Smith</td>\n",
       "      <td>Northern California</td>\n",
       "    </tr>\n",
       "    <tr>\n",
       "      <td>1</td>\n",
       "      <td>536</td>\n",
       "      <td>Bob</td>\n",
       "      <td>Smith</td>\n",
       "      <td>Northern California</td>\n",
       "    </tr>\n",
       "    <tr>\n",
       "      <td>2</td>\n",
       "      <td>98</td>\n",
       "      <td>Jack</td>\n",
       "      <td>Smith</td>\n",
       "      <td>New York</td>\n",
       "    </tr>\n",
       "    <tr>\n",
       "      <td>3</td>\n",
       "      <td>203</td>\n",
       "      <td>Jill</td>\n",
       "      <td>Smith</td>\n",
       "      <td>New York</td>\n",
       "    </tr>\n",
       "    <tr>\n",
       "      <td>4</td>\n",
       "      <td>304</td>\n",
       "      <td>Jerry</td>\n",
       "      <td>Johnson</td>\n",
       "      <td>Texas</td>\n",
       "    </tr>\n",
       "  </tbody>\n",
       "</table>\n",
       "</div>"
      ],
      "text/plain": [
       "   Auditor ID  First     Last               Region\n",
       "0         234    Sue    Smith  Northern California\n",
       "1         536    Bob    Smith  Northern California\n",
       "2          98   Jack    Smith             New York\n",
       "3         203   Jill    Smith             New York\n",
       "4         304  Jerry  Johnson                Texas"
      ]
     },
     "execution_count": 7,
     "metadata": {},
     "output_type": "execute_result"
    }
   ],
   "source": [
    "Frame_AuditorData.head()"
   ]
  },
  {
   "cell_type": "markdown",
   "metadata": {},
   "source": [
    "# Variable Description  :\n",
    "\n",
    "#### Merge_StorePrices : Stores the result of merging the Stores data and the Prices data on Store ID\n"
   ]
  },
  {
   "cell_type": "code",
   "execution_count": 8,
   "metadata": {},
   "outputs": [],
   "source": [
    "# merge store and price data by the store ID \n",
    "Merge_StorePrices = pd.merge(Frame_StoreData, Frame_PricesData, on='Store ID')"
   ]
  },
  {
   "cell_type": "code",
   "execution_count": 9,
   "metadata": {},
   "outputs": [
    {
     "data": {
      "text/html": [
       "<div>\n",
       "<style scoped>\n",
       "    .dataframe tbody tr th:only-of-type {\n",
       "        vertical-align: middle;\n",
       "    }\n",
       "\n",
       "    .dataframe tbody tr th {\n",
       "        vertical-align: top;\n",
       "    }\n",
       "\n",
       "    .dataframe thead th {\n",
       "        text-align: right;\n",
       "    }\n",
       "</style>\n",
       "<table border=\"1\" class=\"dataframe\">\n",
       "  <thead>\n",
       "    <tr style=\"text-align: right;\">\n",
       "      <th></th>\n",
       "      <th>Store ID</th>\n",
       "      <th>Banner</th>\n",
       "      <th>Region</th>\n",
       "      <th>Auditor ID</th>\n",
       "      <th>Date</th>\n",
       "      <th>Price</th>\n",
       "      <th>UPC</th>\n",
       "    </tr>\n",
       "  </thead>\n",
       "  <tbody>\n",
       "    <tr>\n",
       "      <td>0</td>\n",
       "      <td>66999</td>\n",
       "      <td>Walmart</td>\n",
       "      <td>Northern California</td>\n",
       "      <td>234</td>\n",
       "      <td>10/18/2017</td>\n",
       "      <td>24.95</td>\n",
       "      <td>268588472</td>\n",
       "    </tr>\n",
       "    <tr>\n",
       "      <td>1</td>\n",
       "      <td>66999</td>\n",
       "      <td>Walmart</td>\n",
       "      <td>Northern California</td>\n",
       "      <td>234</td>\n",
       "      <td>10/27/2017</td>\n",
       "      <td>49.71</td>\n",
       "      <td>475245085</td>\n",
       "    </tr>\n",
       "    <tr>\n",
       "      <td>2</td>\n",
       "      <td>66999</td>\n",
       "      <td>Walmart</td>\n",
       "      <td>Northern California</td>\n",
       "      <td>234</td>\n",
       "      <td>10/20/2017</td>\n",
       "      <td>25.75</td>\n",
       "      <td>126967843</td>\n",
       "    </tr>\n",
       "    <tr>\n",
       "      <td>3</td>\n",
       "      <td>66999</td>\n",
       "      <td>Walmart</td>\n",
       "      <td>Northern California</td>\n",
       "      <td>234</td>\n",
       "      <td>10/23/2017</td>\n",
       "      <td>18.81</td>\n",
       "      <td>708930835</td>\n",
       "    </tr>\n",
       "    <tr>\n",
       "      <td>4</td>\n",
       "      <td>66999</td>\n",
       "      <td>Walmart</td>\n",
       "      <td>Northern California</td>\n",
       "      <td>234</td>\n",
       "      <td>10/23/2017</td>\n",
       "      <td>33.32</td>\n",
       "      <td>325885139</td>\n",
       "    </tr>\n",
       "  </tbody>\n",
       "</table>\n",
       "</div>"
      ],
      "text/plain": [
       "   Store ID   Banner               Region  Auditor ID        Date  Price  \\\n",
       "0     66999  Walmart  Northern California         234  10/18/2017  24.95   \n",
       "1     66999  Walmart  Northern California         234  10/27/2017  49.71   \n",
       "2     66999  Walmart  Northern California         234  10/20/2017  25.75   \n",
       "3     66999  Walmart  Northern California         234  10/23/2017  18.81   \n",
       "4     66999  Walmart  Northern California         234  10/23/2017  33.32   \n",
       "\n",
       "         UPC  \n",
       "0  268588472  \n",
       "1  475245085  \n",
       "2  126967843  \n",
       "3  708930835  \n",
       "4  325885139  "
      ]
     },
     "execution_count": 9,
     "metadata": {},
     "output_type": "execute_result"
    }
   ],
   "source": [
    "Merge_StorePrices.head()"
   ]
  },
  {
   "cell_type": "markdown",
   "metadata": {},
   "source": [
    "#### Merge_StorePricesAuditors: Stores the result of merging the Auditors data with the previously merged stores data and prices data on Auditor ID"
   ]
  },
  {
   "cell_type": "code",
   "execution_count": 10,
   "metadata": {},
   "outputs": [],
   "source": [
    "# merge previous data with auditor data by auditor ID\n",
    "Merge_StorePricesAuditors = pd.merge(Merge_StorePrices, Frame_AuditorData, on='Auditor ID')"
   ]
  },
  {
   "cell_type": "code",
   "execution_count": 11,
   "metadata": {},
   "outputs": [
    {
     "data": {
      "text/html": [
       "<div>\n",
       "<style scoped>\n",
       "    .dataframe tbody tr th:only-of-type {\n",
       "        vertical-align: middle;\n",
       "    }\n",
       "\n",
       "    .dataframe tbody tr th {\n",
       "        vertical-align: top;\n",
       "    }\n",
       "\n",
       "    .dataframe thead th {\n",
       "        text-align: right;\n",
       "    }\n",
       "</style>\n",
       "<table border=\"1\" class=\"dataframe\">\n",
       "  <thead>\n",
       "    <tr style=\"text-align: right;\">\n",
       "      <th></th>\n",
       "      <th>Store ID</th>\n",
       "      <th>Banner</th>\n",
       "      <th>Region_x</th>\n",
       "      <th>Auditor ID</th>\n",
       "      <th>Date</th>\n",
       "      <th>Price</th>\n",
       "      <th>UPC</th>\n",
       "      <th>First</th>\n",
       "      <th>Last</th>\n",
       "      <th>Region_y</th>\n",
       "    </tr>\n",
       "  </thead>\n",
       "  <tbody>\n",
       "    <tr>\n",
       "      <td>0</td>\n",
       "      <td>66999</td>\n",
       "      <td>Walmart</td>\n",
       "      <td>Northern California</td>\n",
       "      <td>234</td>\n",
       "      <td>10/18/2017</td>\n",
       "      <td>24.95</td>\n",
       "      <td>268588472</td>\n",
       "      <td>Sue</td>\n",
       "      <td>Smith</td>\n",
       "      <td>Northern California</td>\n",
       "    </tr>\n",
       "    <tr>\n",
       "      <td>1</td>\n",
       "      <td>66999</td>\n",
       "      <td>Walmart</td>\n",
       "      <td>Northern California</td>\n",
       "      <td>234</td>\n",
       "      <td>10/27/2017</td>\n",
       "      <td>49.71</td>\n",
       "      <td>475245085</td>\n",
       "      <td>Sue</td>\n",
       "      <td>Smith</td>\n",
       "      <td>Northern California</td>\n",
       "    </tr>\n",
       "    <tr>\n",
       "      <td>2</td>\n",
       "      <td>66999</td>\n",
       "      <td>Walmart</td>\n",
       "      <td>Northern California</td>\n",
       "      <td>234</td>\n",
       "      <td>10/20/2017</td>\n",
       "      <td>25.75</td>\n",
       "      <td>126967843</td>\n",
       "      <td>Sue</td>\n",
       "      <td>Smith</td>\n",
       "      <td>Northern California</td>\n",
       "    </tr>\n",
       "    <tr>\n",
       "      <td>3</td>\n",
       "      <td>66999</td>\n",
       "      <td>Walmart</td>\n",
       "      <td>Northern California</td>\n",
       "      <td>234</td>\n",
       "      <td>10/23/2017</td>\n",
       "      <td>18.81</td>\n",
       "      <td>708930835</td>\n",
       "      <td>Sue</td>\n",
       "      <td>Smith</td>\n",
       "      <td>Northern California</td>\n",
       "    </tr>\n",
       "    <tr>\n",
       "      <td>4</td>\n",
       "      <td>66999</td>\n",
       "      <td>Walmart</td>\n",
       "      <td>Northern California</td>\n",
       "      <td>234</td>\n",
       "      <td>10/23/2017</td>\n",
       "      <td>33.32</td>\n",
       "      <td>325885139</td>\n",
       "      <td>Sue</td>\n",
       "      <td>Smith</td>\n",
       "      <td>Northern California</td>\n",
       "    </tr>\n",
       "  </tbody>\n",
       "</table>\n",
       "</div>"
      ],
      "text/plain": [
       "   Store ID   Banner             Region_x  Auditor ID        Date  Price  \\\n",
       "0     66999  Walmart  Northern California         234  10/18/2017  24.95   \n",
       "1     66999  Walmart  Northern California         234  10/27/2017  49.71   \n",
       "2     66999  Walmart  Northern California         234  10/20/2017  25.75   \n",
       "3     66999  Walmart  Northern California         234  10/23/2017  18.81   \n",
       "4     66999  Walmart  Northern California         234  10/23/2017  33.32   \n",
       "\n",
       "         UPC First   Last             Region_y  \n",
       "0  268588472   Sue  Smith  Northern California  \n",
       "1  475245085   Sue  Smith  Northern California  \n",
       "2  126967843   Sue  Smith  Northern California  \n",
       "3  708930835   Sue  Smith  Northern California  \n",
       "4  325885139   Sue  Smith  Northern California  "
      ]
     },
     "execution_count": 11,
     "metadata": {},
     "output_type": "execute_result"
    }
   ],
   "source": [
    "Merge_StorePricesAuditors.head()"
   ]
  },
  {
   "cell_type": "markdown",
   "metadata": {},
   "source": [
    "#### Dropping the column Region_y from Merge_StorePricesAuditors"
   ]
  },
  {
   "cell_type": "code",
   "execution_count": 12,
   "metadata": {},
   "outputs": [],
   "source": [
    "# drop the last columns which is aduitor's region, it gets less confuse with the price region\n",
    "Merge_StorePricesAuditors = Merge_StorePricesAuditors.drop(['Region_y'], axis=1) "
   ]
  },
  {
   "cell_type": "code",
   "execution_count": 13,
   "metadata": {},
   "outputs": [
    {
     "data": {
      "text/html": [
       "<div>\n",
       "<style scoped>\n",
       "    .dataframe tbody tr th:only-of-type {\n",
       "        vertical-align: middle;\n",
       "    }\n",
       "\n",
       "    .dataframe tbody tr th {\n",
       "        vertical-align: top;\n",
       "    }\n",
       "\n",
       "    .dataframe thead th {\n",
       "        text-align: right;\n",
       "    }\n",
       "</style>\n",
       "<table border=\"1\" class=\"dataframe\">\n",
       "  <thead>\n",
       "    <tr style=\"text-align: right;\">\n",
       "      <th></th>\n",
       "      <th>Store ID</th>\n",
       "      <th>Banner</th>\n",
       "      <th>Region_x</th>\n",
       "      <th>Auditor ID</th>\n",
       "      <th>Date</th>\n",
       "      <th>Price</th>\n",
       "      <th>UPC</th>\n",
       "      <th>First</th>\n",
       "      <th>Last</th>\n",
       "    </tr>\n",
       "  </thead>\n",
       "  <tbody>\n",
       "    <tr>\n",
       "      <td>0</td>\n",
       "      <td>66999</td>\n",
       "      <td>Walmart</td>\n",
       "      <td>Northern California</td>\n",
       "      <td>234</td>\n",
       "      <td>10/18/2017</td>\n",
       "      <td>24.95</td>\n",
       "      <td>268588472</td>\n",
       "      <td>Sue</td>\n",
       "      <td>Smith</td>\n",
       "    </tr>\n",
       "    <tr>\n",
       "      <td>1</td>\n",
       "      <td>66999</td>\n",
       "      <td>Walmart</td>\n",
       "      <td>Northern California</td>\n",
       "      <td>234</td>\n",
       "      <td>10/27/2017</td>\n",
       "      <td>49.71</td>\n",
       "      <td>475245085</td>\n",
       "      <td>Sue</td>\n",
       "      <td>Smith</td>\n",
       "    </tr>\n",
       "    <tr>\n",
       "      <td>2</td>\n",
       "      <td>66999</td>\n",
       "      <td>Walmart</td>\n",
       "      <td>Northern California</td>\n",
       "      <td>234</td>\n",
       "      <td>10/20/2017</td>\n",
       "      <td>25.75</td>\n",
       "      <td>126967843</td>\n",
       "      <td>Sue</td>\n",
       "      <td>Smith</td>\n",
       "    </tr>\n",
       "    <tr>\n",
       "      <td>3</td>\n",
       "      <td>66999</td>\n",
       "      <td>Walmart</td>\n",
       "      <td>Northern California</td>\n",
       "      <td>234</td>\n",
       "      <td>10/23/2017</td>\n",
       "      <td>18.81</td>\n",
       "      <td>708930835</td>\n",
       "      <td>Sue</td>\n",
       "      <td>Smith</td>\n",
       "    </tr>\n",
       "    <tr>\n",
       "      <td>4</td>\n",
       "      <td>66999</td>\n",
       "      <td>Walmart</td>\n",
       "      <td>Northern California</td>\n",
       "      <td>234</td>\n",
       "      <td>10/23/2017</td>\n",
       "      <td>33.32</td>\n",
       "      <td>325885139</td>\n",
       "      <td>Sue</td>\n",
       "      <td>Smith</td>\n",
       "    </tr>\n",
       "  </tbody>\n",
       "</table>\n",
       "</div>"
      ],
      "text/plain": [
       "   Store ID   Banner             Region_x  Auditor ID        Date  Price  \\\n",
       "0     66999  Walmart  Northern California         234  10/18/2017  24.95   \n",
       "1     66999  Walmart  Northern California         234  10/27/2017  49.71   \n",
       "2     66999  Walmart  Northern California         234  10/20/2017  25.75   \n",
       "3     66999  Walmart  Northern California         234  10/23/2017  18.81   \n",
       "4     66999  Walmart  Northern California         234  10/23/2017  33.32   \n",
       "\n",
       "         UPC First   Last  \n",
       "0  268588472   Sue  Smith  \n",
       "1  475245085   Sue  Smith  \n",
       "2  126967843   Sue  Smith  \n",
       "3  708930835   Sue  Smith  \n",
       "4  325885139   Sue  Smith  "
      ]
     },
     "execution_count": 13,
     "metadata": {},
     "output_type": "execute_result"
    }
   ],
   "source": [
    "Merge_StorePricesAuditors.head()"
   ]
  },
  {
   "cell_type": "markdown",
   "metadata": {},
   "source": [
    "#### Change the region_x to region in the dataframe Merge_StorePricesAuditors"
   ]
  },
  {
   "cell_type": "code",
   "execution_count": 14,
   "metadata": {},
   "outputs": [
    {
     "data": {
      "text/html": [
       "<div>\n",
       "<style scoped>\n",
       "    .dataframe tbody tr th:only-of-type {\n",
       "        vertical-align: middle;\n",
       "    }\n",
       "\n",
       "    .dataframe tbody tr th {\n",
       "        vertical-align: top;\n",
       "    }\n",
       "\n",
       "    .dataframe thead th {\n",
       "        text-align: right;\n",
       "    }\n",
       "</style>\n",
       "<table border=\"1\" class=\"dataframe\">\n",
       "  <thead>\n",
       "    <tr style=\"text-align: right;\">\n",
       "      <th></th>\n",
       "      <th>Store ID</th>\n",
       "      <th>Banner</th>\n",
       "      <th>Region</th>\n",
       "      <th>Auditor ID</th>\n",
       "      <th>Date</th>\n",
       "      <th>Price</th>\n",
       "      <th>UPC</th>\n",
       "      <th>First</th>\n",
       "      <th>Last</th>\n",
       "    </tr>\n",
       "  </thead>\n",
       "  <tbody>\n",
       "    <tr>\n",
       "      <td>0</td>\n",
       "      <td>66999</td>\n",
       "      <td>Walmart</td>\n",
       "      <td>Northern California</td>\n",
       "      <td>234</td>\n",
       "      <td>10/18/2017</td>\n",
       "      <td>24.95</td>\n",
       "      <td>268588472</td>\n",
       "      <td>Sue</td>\n",
       "      <td>Smith</td>\n",
       "    </tr>\n",
       "    <tr>\n",
       "      <td>1</td>\n",
       "      <td>66999</td>\n",
       "      <td>Walmart</td>\n",
       "      <td>Northern California</td>\n",
       "      <td>234</td>\n",
       "      <td>10/27/2017</td>\n",
       "      <td>49.71</td>\n",
       "      <td>475245085</td>\n",
       "      <td>Sue</td>\n",
       "      <td>Smith</td>\n",
       "    </tr>\n",
       "    <tr>\n",
       "      <td>2</td>\n",
       "      <td>66999</td>\n",
       "      <td>Walmart</td>\n",
       "      <td>Northern California</td>\n",
       "      <td>234</td>\n",
       "      <td>10/20/2017</td>\n",
       "      <td>25.75</td>\n",
       "      <td>126967843</td>\n",
       "      <td>Sue</td>\n",
       "      <td>Smith</td>\n",
       "    </tr>\n",
       "    <tr>\n",
       "      <td>3</td>\n",
       "      <td>66999</td>\n",
       "      <td>Walmart</td>\n",
       "      <td>Northern California</td>\n",
       "      <td>234</td>\n",
       "      <td>10/23/2017</td>\n",
       "      <td>18.81</td>\n",
       "      <td>708930835</td>\n",
       "      <td>Sue</td>\n",
       "      <td>Smith</td>\n",
       "    </tr>\n",
       "    <tr>\n",
       "      <td>4</td>\n",
       "      <td>66999</td>\n",
       "      <td>Walmart</td>\n",
       "      <td>Northern California</td>\n",
       "      <td>234</td>\n",
       "      <td>10/23/2017</td>\n",
       "      <td>33.32</td>\n",
       "      <td>325885139</td>\n",
       "      <td>Sue</td>\n",
       "      <td>Smith</td>\n",
       "    </tr>\n",
       "  </tbody>\n",
       "</table>\n",
       "</div>"
      ],
      "text/plain": [
       "   Store ID   Banner               Region  Auditor ID        Date  Price  \\\n",
       "0     66999  Walmart  Northern California         234  10/18/2017  24.95   \n",
       "1     66999  Walmart  Northern California         234  10/27/2017  49.71   \n",
       "2     66999  Walmart  Northern California         234  10/20/2017  25.75   \n",
       "3     66999  Walmart  Northern California         234  10/23/2017  18.81   \n",
       "4     66999  Walmart  Northern California         234  10/23/2017  33.32   \n",
       "\n",
       "         UPC First   Last  \n",
       "0  268588472   Sue  Smith  \n",
       "1  475245085   Sue  Smith  \n",
       "2  126967843   Sue  Smith  \n",
       "3  708930835   Sue  Smith  \n",
       "4  325885139   Sue  Smith  "
      ]
     },
     "execution_count": 14,
     "metadata": {},
     "output_type": "execute_result"
    }
   ],
   "source": [
    "# change the region_x to the region\n",
    "Merge_StorePricesAuditors = Merge_StorePricesAuditors.rename(columns={\"Region_x\": \"Region\"})\n",
    "Merge_StorePricesAuditors.head()"
   ]
  },
  {
   "cell_type": "markdown",
   "metadata": {},
   "source": [
    "## Variable Description  :\n",
    "\n",
    "#### CrossTable: Form a crosstable dataframe with the index Banner and UPC, columns as Regions and the values as prices of the product."
   ]
  },
  {
   "cell_type": "code",
   "execution_count": 15,
   "metadata": {},
   "outputs": [],
   "source": [
    "# create the cross table\n",
    "CrossTable = pd.crosstab([Merge_StorePricesAuditors.Banner, Merge_StorePricesAuditors.UPC], Merge_StorePricesAuditors.Region,values=Merge_StorePricesAuditors.Price, aggfunc='mean',colnames=['index'])"
   ]
  },
  {
   "cell_type": "code",
   "execution_count": 16,
   "metadata": {},
   "outputs": [
    {
     "data": {
      "text/html": [
       "<div>\n",
       "<style scoped>\n",
       "    .dataframe tbody tr th:only-of-type {\n",
       "        vertical-align: middle;\n",
       "    }\n",
       "\n",
       "    .dataframe tbody tr th {\n",
       "        vertical-align: top;\n",
       "    }\n",
       "\n",
       "    .dataframe thead th {\n",
       "        text-align: right;\n",
       "    }\n",
       "</style>\n",
       "<table border=\"1\" class=\"dataframe\">\n",
       "  <thead>\n",
       "    <tr style=\"text-align: right;\">\n",
       "      <th></th>\n",
       "      <th>index</th>\n",
       "      <th>Kansas</th>\n",
       "      <th>New York</th>\n",
       "      <th>Northern California</th>\n",
       "      <th>Texas</th>\n",
       "    </tr>\n",
       "    <tr>\n",
       "      <th>Banner</th>\n",
       "      <th>UPC</th>\n",
       "      <th></th>\n",
       "      <th></th>\n",
       "      <th></th>\n",
       "      <th></th>\n",
       "    </tr>\n",
       "  </thead>\n",
       "  <tbody>\n",
       "    <tr>\n",
       "      <td rowspan=\"5\" valign=\"top\">Safeway</td>\n",
       "      <td>11873171</td>\n",
       "      <td>NaN</td>\n",
       "      <td>NaN</td>\n",
       "      <td>6.09</td>\n",
       "      <td>5.19</td>\n",
       "    </tr>\n",
       "    <tr>\n",
       "      <td>15052612</td>\n",
       "      <td>53.99</td>\n",
       "      <td>NaN</td>\n",
       "      <td>NaN</td>\n",
       "      <td>54.49</td>\n",
       "    </tr>\n",
       "    <tr>\n",
       "      <td>16482322</td>\n",
       "      <td>17.89</td>\n",
       "      <td>NaN</td>\n",
       "      <td>NaN</td>\n",
       "      <td>18.09</td>\n",
       "    </tr>\n",
       "    <tr>\n",
       "      <td>16729338</td>\n",
       "      <td>7.99</td>\n",
       "      <td>NaN</td>\n",
       "      <td>9.39</td>\n",
       "      <td>8.09</td>\n",
       "    </tr>\n",
       "    <tr>\n",
       "      <td>16829288</td>\n",
       "      <td>3.59</td>\n",
       "      <td>NaN</td>\n",
       "      <td>4.19</td>\n",
       "      <td>3.59</td>\n",
       "    </tr>\n",
       "  </tbody>\n",
       "</table>\n",
       "</div>"
      ],
      "text/plain": [
       "index             Kansas  New York  Northern California  Texas\n",
       "Banner  UPC                                                   \n",
       "Safeway 11873171     NaN       NaN                 6.09   5.19\n",
       "        15052612   53.99       NaN                  NaN  54.49\n",
       "        16482322   17.89       NaN                  NaN  18.09\n",
       "        16729338    7.99       NaN                 9.39   8.09\n",
       "        16829288    3.59       NaN                 4.19   3.59"
      ]
     },
     "execution_count": 16,
     "metadata": {},
     "output_type": "execute_result"
    }
   ],
   "source": [
    "CrossTable.head()"
   ]
  },
  {
   "cell_type": "markdown",
   "metadata": {},
   "source": [
    "#### Reset the index in the crossTable"
   ]
  },
  {
   "cell_type": "code",
   "execution_count": 17,
   "metadata": {},
   "outputs": [],
   "source": [
    "# reset the index\n",
    "Table_IndexOrder = CrossTable.reset_index()"
   ]
  },
  {
   "cell_type": "code",
   "execution_count": 18,
   "metadata": {},
   "outputs": [
    {
     "data": {
      "text/html": [
       "<div>\n",
       "<style scoped>\n",
       "    .dataframe tbody tr th:only-of-type {\n",
       "        vertical-align: middle;\n",
       "    }\n",
       "\n",
       "    .dataframe tbody tr th {\n",
       "        vertical-align: top;\n",
       "    }\n",
       "\n",
       "    .dataframe thead th {\n",
       "        text-align: right;\n",
       "    }\n",
       "</style>\n",
       "<table border=\"1\" class=\"dataframe\">\n",
       "  <thead>\n",
       "    <tr style=\"text-align: right;\">\n",
       "      <th>index</th>\n",
       "      <th>Banner</th>\n",
       "      <th>UPC</th>\n",
       "      <th>Kansas</th>\n",
       "      <th>New York</th>\n",
       "      <th>Northern California</th>\n",
       "      <th>Texas</th>\n",
       "    </tr>\n",
       "  </thead>\n",
       "  <tbody>\n",
       "    <tr>\n",
       "      <td>0</td>\n",
       "      <td>Safeway</td>\n",
       "      <td>11873171</td>\n",
       "      <td>NaN</td>\n",
       "      <td>NaN</td>\n",
       "      <td>6.09</td>\n",
       "      <td>5.19</td>\n",
       "    </tr>\n",
       "    <tr>\n",
       "      <td>1</td>\n",
       "      <td>Safeway</td>\n",
       "      <td>15052612</td>\n",
       "      <td>53.99</td>\n",
       "      <td>NaN</td>\n",
       "      <td>NaN</td>\n",
       "      <td>54.49</td>\n",
       "    </tr>\n",
       "    <tr>\n",
       "      <td>2</td>\n",
       "      <td>Safeway</td>\n",
       "      <td>16482322</td>\n",
       "      <td>17.89</td>\n",
       "      <td>NaN</td>\n",
       "      <td>NaN</td>\n",
       "      <td>18.09</td>\n",
       "    </tr>\n",
       "    <tr>\n",
       "      <td>3</td>\n",
       "      <td>Safeway</td>\n",
       "      <td>16729338</td>\n",
       "      <td>7.99</td>\n",
       "      <td>NaN</td>\n",
       "      <td>9.39</td>\n",
       "      <td>8.09</td>\n",
       "    </tr>\n",
       "    <tr>\n",
       "      <td>4</td>\n",
       "      <td>Safeway</td>\n",
       "      <td>16829288</td>\n",
       "      <td>3.59</td>\n",
       "      <td>NaN</td>\n",
       "      <td>4.19</td>\n",
       "      <td>3.59</td>\n",
       "    </tr>\n",
       "  </tbody>\n",
       "</table>\n",
       "</div>"
      ],
      "text/plain": [
       "index   Banner       UPC  Kansas  New York  Northern California  Texas\n",
       "0      Safeway  11873171     NaN       NaN                 6.09   5.19\n",
       "1      Safeway  15052612   53.99       NaN                  NaN  54.49\n",
       "2      Safeway  16482322   17.89       NaN                  NaN  18.09\n",
       "3      Safeway  16729338    7.99       NaN                 9.39   8.09\n",
       "4      Safeway  16829288    3.59       NaN                 4.19   3.59"
      ]
     },
     "execution_count": 18,
     "metadata": {},
     "output_type": "execute_result"
    }
   ],
   "source": [
    "Table_IndexOrder.head()"
   ]
  },
  {
   "cell_type": "markdown",
   "metadata": {},
   "source": [
    "#### Changing the column order in the crossTable and reindexing and sorting by UPC values according to the output"
   ]
  },
  {
   "cell_type": "code",
   "execution_count": 19,
   "metadata": {},
   "outputs": [
    {
     "data": {
      "text/html": [
       "<div>\n",
       "<style scoped>\n",
       "    .dataframe tbody tr th:only-of-type {\n",
       "        vertical-align: middle;\n",
       "    }\n",
       "\n",
       "    .dataframe tbody tr th {\n",
       "        vertical-align: top;\n",
       "    }\n",
       "\n",
       "    .dataframe thead th {\n",
       "        text-align: right;\n",
       "    }\n",
       "</style>\n",
       "<table border=\"1\" class=\"dataframe\">\n",
       "  <thead>\n",
       "    <tr style=\"text-align: right;\">\n",
       "      <th>index</th>\n",
       "      <th>Banner</th>\n",
       "      <th>UPC</th>\n",
       "      <th>Northern California</th>\n",
       "      <th>New York</th>\n",
       "      <th>Kansas</th>\n",
       "      <th>Texas</th>\n",
       "    </tr>\n",
       "  </thead>\n",
       "  <tbody>\n",
       "    <tr>\n",
       "      <td>0</td>\n",
       "      <td>Safeway</td>\n",
       "      <td>11873171</td>\n",
       "      <td>6.09</td>\n",
       "      <td>NaN</td>\n",
       "      <td>NaN</td>\n",
       "      <td>5.19</td>\n",
       "    </tr>\n",
       "    <tr>\n",
       "      <td>1953</td>\n",
       "      <td>Walmart</td>\n",
       "      <td>11873171</td>\n",
       "      <td>5.53</td>\n",
       "      <td>NaN</td>\n",
       "      <td>NaN</td>\n",
       "      <td>4.75</td>\n",
       "    </tr>\n",
       "    <tr>\n",
       "      <td>3934</td>\n",
       "      <td>Whole Foods</td>\n",
       "      <td>11873171</td>\n",
       "      <td>NaN</td>\n",
       "      <td>5.69</td>\n",
       "      <td>1.99</td>\n",
       "      <td>5.49</td>\n",
       "    </tr>\n",
       "    <tr>\n",
       "      <td>977</td>\n",
       "      <td>Trader Joes</td>\n",
       "      <td>11873171</td>\n",
       "      <td>NaN</td>\n",
       "      <td>NaN</td>\n",
       "      <td>NaN</td>\n",
       "      <td>4.99</td>\n",
       "    </tr>\n",
       "    <tr>\n",
       "      <td>2938</td>\n",
       "      <td>Wegmans</td>\n",
       "      <td>11873171</td>\n",
       "      <td>NaN</td>\n",
       "      <td>5.19</td>\n",
       "      <td>NaN</td>\n",
       "      <td>5.09</td>\n",
       "    </tr>\n",
       "  </tbody>\n",
       "</table>\n",
       "</div>"
      ],
      "text/plain": [
       "index       Banner       UPC  Northern California  New York  Kansas  Texas\n",
       "0          Safeway  11873171                 6.09       NaN     NaN   5.19\n",
       "1953       Walmart  11873171                 5.53       NaN     NaN   4.75\n",
       "3934   Whole Foods  11873171                  NaN      5.69    1.99   5.49\n",
       "977    Trader Joes  11873171                  NaN       NaN     NaN   4.99\n",
       "2938       Wegmans  11873171                  NaN      5.19     NaN   5.09"
      ]
     },
     "execution_count": 19,
     "metadata": {},
     "output_type": "execute_result"
    }
   ],
   "source": [
    "# change the columns order \n",
    "columnsTitles = ['Banner', 'UPC', 'Northern California','New York','Kansas','Texas']\n",
    "# reindex the data\n",
    "Table_IndexOrder = Table_IndexOrder.reindex(columns=columnsTitles)\n",
    "# sort the data by UPC number\n",
    "Table_IndexOrder = Table_IndexOrder.sort_values(by=['UPC'])\n",
    "Table_IndexOrder.head()"
   ]
  },
  {
   "cell_type": "markdown",
   "metadata": {},
   "source": [
    "#### Saving the output of the Table_IndexOrder dataframe to the csv file "
   ]
  },
  {
   "cell_type": "code",
   "execution_count": 20,
   "metadata": {},
   "outputs": [],
   "source": [
    "Table_IndexOrder.to_csv(r'C:\\Users\\vinee\\OneDrive\\Desktop\\Fulltime\\Resume_2020\\Engage3\\output1.csv', index=False)"
   ]
  },
  {
   "cell_type": "code",
   "execution_count": 21,
   "metadata": {
    "scrolled": true
   },
   "outputs": [
    {
     "data": {
      "text/html": [
       "<div>\n",
       "<style scoped>\n",
       "    .dataframe tbody tr th:only-of-type {\n",
       "        vertical-align: middle;\n",
       "    }\n",
       "\n",
       "    .dataframe tbody tr th {\n",
       "        vertical-align: top;\n",
       "    }\n",
       "\n",
       "    .dataframe thead th {\n",
       "        text-align: right;\n",
       "    }\n",
       "</style>\n",
       "<table border=\"1\" class=\"dataframe\">\n",
       "  <thead>\n",
       "    <tr style=\"text-align: right;\">\n",
       "      <th>index</th>\n",
       "      <th>Banner</th>\n",
       "      <th>UPC</th>\n",
       "      <th>Northern California</th>\n",
       "      <th>New York</th>\n",
       "      <th>Kansas</th>\n",
       "      <th>Texas</th>\n",
       "    </tr>\n",
       "  </thead>\n",
       "  <tbody>\n",
       "    <tr>\n",
       "      <td>0</td>\n",
       "      <td>Safeway</td>\n",
       "      <td>11873171</td>\n",
       "      <td>6.09</td>\n",
       "      <td>NaN</td>\n",
       "      <td>NaN</td>\n",
       "      <td>5.19</td>\n",
       "    </tr>\n",
       "    <tr>\n",
       "      <td>1953</td>\n",
       "      <td>Walmart</td>\n",
       "      <td>11873171</td>\n",
       "      <td>5.53</td>\n",
       "      <td>NaN</td>\n",
       "      <td>NaN</td>\n",
       "      <td>4.75</td>\n",
       "    </tr>\n",
       "    <tr>\n",
       "      <td>3934</td>\n",
       "      <td>Whole Foods</td>\n",
       "      <td>11873171</td>\n",
       "      <td>NaN</td>\n",
       "      <td>5.69</td>\n",
       "      <td>1.99</td>\n",
       "      <td>5.49</td>\n",
       "    </tr>\n",
       "    <tr>\n",
       "      <td>977</td>\n",
       "      <td>Trader Joes</td>\n",
       "      <td>11873171</td>\n",
       "      <td>NaN</td>\n",
       "      <td>NaN</td>\n",
       "      <td>NaN</td>\n",
       "      <td>4.99</td>\n",
       "    </tr>\n",
       "    <tr>\n",
       "      <td>2938</td>\n",
       "      <td>Wegmans</td>\n",
       "      <td>11873171</td>\n",
       "      <td>NaN</td>\n",
       "      <td>5.19</td>\n",
       "      <td>NaN</td>\n",
       "      <td>5.09</td>\n",
       "    </tr>\n",
       "  </tbody>\n",
       "</table>\n",
       "</div>"
      ],
      "text/plain": [
       "index       Banner       UPC  Northern California  New York  Kansas  Texas\n",
       "0          Safeway  11873171                 6.09       NaN     NaN   5.19\n",
       "1953       Walmart  11873171                 5.53       NaN     NaN   4.75\n",
       "3934   Whole Foods  11873171                  NaN      5.69    1.99   5.49\n",
       "977    Trader Joes  11873171                  NaN       NaN     NaN   4.99\n",
       "2938       Wegmans  11873171                  NaN      5.19     NaN   5.09"
      ]
     },
     "execution_count": 21,
     "metadata": {},
     "output_type": "execute_result"
    }
   ],
   "source": [
    "Table_IndexOrder.head()"
   ]
  },
  {
   "cell_type": "markdown",
   "metadata": {},
   "source": [
    "# Question 2"
   ]
  },
  {
   "cell_type": "code",
   "execution_count": 22,
   "metadata": {},
   "outputs": [],
   "source": [
    "a = Table_IndexOrder[pd.notnull(Table_IndexOrder['Northern California'])&pd.notnull(Table_IndexOrder['Texas'])]"
   ]
  },
  {
   "cell_type": "markdown",
   "metadata": {},
   "source": [
    "#### From the  information given in the question, The price a product = UPC * StoreMultiplier * RegionMultiplier. Let's try to estimate the relation between Region Multuipliers for  various regions by studying a few data points. Consider the first row in the Table_IndexOrder table to calculate the region multipler ratio\n",
    "\n",
    "#### Here we are considering a single UPC under a single Banner across various regions. Thus, the UPC Price(U) and Store Multiplier are constant.\n",
    "\n",
    "#### Lets suppose that the Store Multiplier for Safeway = S\n",
    "\n",
    "#### The product Price in Northern california  = 6.09, Store multiplier = Safeway Multiplier, Region multiplier = Northern california(NC) Multiplier\n",
    "\n",
    "#### The product Price in Texas = 5.19, Store Multiplier = Safeway, Region multiplier = Texas(T) Multiplier\n",
    "#### 6.09 = UPC Price * S * NC --- Equation 1\n",
    "#### 5.17 = UPC Price * S * T --- Equation 2\n",
    "\n",
    "#### divide  Equation 1 by Equation 2 we get NC/T = 1.17(approx)\n",
    "\n",
    "#### Now if we calculate for the entire dataset the mean ratio is 1.160, mode ratio is 1.61\n",
    "\n",
    "#### That is region multiplier of Northern california is roughly 1.16  times region multiplier of Texas, indicatinng that the for a given product and banner the price in Northern California is greather than that in Texas.\n",
    "\n",
    "#### On carefuly observation of data we see that there are only two price points where for for a given product and banner the price in Texas is greater than that in Northern California. This is an anaomoly and needs to be rechecked."
   ]
  },
  {
   "cell_type": "code",
   "execution_count": 23,
   "metadata": {},
   "outputs": [
    {
     "name": "stderr",
     "output_type": "stream",
     "text": [
      "C:\\Users\\vinee\\Anaconda5\\lib\\site-packages\\ipykernel_launcher.py:1: SettingWithCopyWarning: \n",
      "A value is trying to be set on a copy of a slice from a DataFrame.\n",
      "Try using .loc[row_indexer,col_indexer] = value instead\n",
      "\n",
      "See the caveats in the documentation: http://pandas.pydata.org/pandas-docs/stable/user_guide/indexing.html#returning-a-view-versus-a-copy\n",
      "  \"\"\"Entry point for launching an IPython kernel.\n"
     ]
    }
   ],
   "source": [
    "a['NC/T'] = ''"
   ]
  },
  {
   "cell_type": "code",
   "execution_count": 24,
   "metadata": {},
   "outputs": [
    {
     "name": "stderr",
     "output_type": "stream",
     "text": [
      "C:\\Users\\vinee\\Anaconda5\\lib\\site-packages\\ipykernel_launcher.py:1: SettingWithCopyWarning: \n",
      "A value is trying to be set on a copy of a slice from a DataFrame.\n",
      "Try using .loc[row_indexer,col_indexer] = value instead\n",
      "\n",
      "See the caveats in the documentation: http://pandas.pydata.org/pandas-docs/stable/user_guide/indexing.html#returning-a-view-versus-a-copy\n",
      "  \"\"\"Entry point for launching an IPython kernel.\n"
     ]
    }
   ],
   "source": [
    "a['NC/T'] = a['Northern California']/a['Texas']"
   ]
  },
  {
   "cell_type": "code",
   "execution_count": 25,
   "metadata": {},
   "outputs": [
    {
     "data": {
      "text/html": [
       "<div>\n",
       "<style scoped>\n",
       "    .dataframe tbody tr th:only-of-type {\n",
       "        vertical-align: middle;\n",
       "    }\n",
       "\n",
       "    .dataframe tbody tr th {\n",
       "        vertical-align: top;\n",
       "    }\n",
       "\n",
       "    .dataframe thead th {\n",
       "        text-align: right;\n",
       "    }\n",
       "</style>\n",
       "<table border=\"1\" class=\"dataframe\">\n",
       "  <thead>\n",
       "    <tr style=\"text-align: right;\">\n",
       "      <th>index</th>\n",
       "      <th>Banner</th>\n",
       "      <th>UPC</th>\n",
       "      <th>Northern California</th>\n",
       "      <th>New York</th>\n",
       "      <th>Kansas</th>\n",
       "      <th>Texas</th>\n",
       "      <th>NC/T</th>\n",
       "    </tr>\n",
       "  </thead>\n",
       "  <tbody>\n",
       "    <tr>\n",
       "      <td>0</td>\n",
       "      <td>Safeway</td>\n",
       "      <td>11873171</td>\n",
       "      <td>6.09</td>\n",
       "      <td>NaN</td>\n",
       "      <td>NaN</td>\n",
       "      <td>5.19</td>\n",
       "      <td>1.173410</td>\n",
       "    </tr>\n",
       "    <tr>\n",
       "      <td>1953</td>\n",
       "      <td>Walmart</td>\n",
       "      <td>11873171</td>\n",
       "      <td>5.53</td>\n",
       "      <td>NaN</td>\n",
       "      <td>NaN</td>\n",
       "      <td>4.75</td>\n",
       "      <td>1.164211</td>\n",
       "    </tr>\n",
       "    <tr>\n",
       "      <td>980</td>\n",
       "      <td>Trader Joes</td>\n",
       "      <td>16729338</td>\n",
       "      <td>8.89</td>\n",
       "      <td>7.89</td>\n",
       "      <td>7.59</td>\n",
       "      <td>7.69</td>\n",
       "      <td>1.156047</td>\n",
       "    </tr>\n",
       "    <tr>\n",
       "      <td>3</td>\n",
       "      <td>Safeway</td>\n",
       "      <td>16729338</td>\n",
       "      <td>9.39</td>\n",
       "      <td>NaN</td>\n",
       "      <td>7.99</td>\n",
       "      <td>8.09</td>\n",
       "      <td>1.160692</td>\n",
       "    </tr>\n",
       "    <tr>\n",
       "      <td>4</td>\n",
       "      <td>Safeway</td>\n",
       "      <td>16829288</td>\n",
       "      <td>4.19</td>\n",
       "      <td>NaN</td>\n",
       "      <td>3.59</td>\n",
       "      <td>3.59</td>\n",
       "      <td>1.167131</td>\n",
       "    </tr>\n",
       "  </tbody>\n",
       "</table>\n",
       "</div>"
      ],
      "text/plain": [
       "index       Banner       UPC  Northern California  New York  Kansas  Texas  \\\n",
       "0          Safeway  11873171                 6.09       NaN     NaN   5.19   \n",
       "1953       Walmart  11873171                 5.53       NaN     NaN   4.75   \n",
       "980    Trader Joes  16729338                 8.89      7.89    7.59   7.69   \n",
       "3          Safeway  16729338                 9.39       NaN    7.99   8.09   \n",
       "4          Safeway  16829288                 4.19       NaN    3.59   3.59   \n",
       "\n",
       "index      NC/T  \n",
       "0      1.173410  \n",
       "1953   1.164211  \n",
       "980    1.156047  \n",
       "3      1.160692  \n",
       "4      1.167131  "
      ]
     },
     "execution_count": 25,
     "metadata": {},
     "output_type": "execute_result"
    }
   ],
   "source": [
    "a.head()"
   ]
  },
  {
   "cell_type": "code",
   "execution_count": 26,
   "metadata": {},
   "outputs": [
    {
     "data": {
      "text/plain": [
       "0    1.161663\n",
       "dtype: float64"
      ]
     },
     "execution_count": 26,
     "metadata": {},
     "output_type": "execute_result"
    }
   ],
   "source": [
    "a['NC/T'].mode()"
   ]
  },
  {
   "cell_type": "code",
   "execution_count": 27,
   "metadata": {},
   "outputs": [
    {
     "data": {
      "text/plain": [
       "1.1604155060190635"
      ]
     },
     "execution_count": 27,
     "metadata": {},
     "output_type": "execute_result"
    }
   ],
   "source": [
    "a['NC/T'].mean()"
   ]
  },
  {
   "cell_type": "code",
   "execution_count": 28,
   "metadata": {},
   "outputs": [
    {
     "data": {
      "text/plain": [
       "0.018377902750065706"
      ]
     },
     "execution_count": 28,
     "metadata": {},
     "output_type": "execute_result"
    }
   ],
   "source": [
    "a['NC/T'].std()"
   ]
  },
  {
   "cell_type": "code",
   "execution_count": 29,
   "metadata": {},
   "outputs": [
    {
     "data": {
      "text/plain": [
       "0.0003377473094908726"
      ]
     },
     "execution_count": 29,
     "metadata": {},
     "output_type": "execute_result"
    }
   ],
   "source": [
    "a['NC/T'].var()"
   ]
  },
  {
   "cell_type": "code",
   "execution_count": 30,
   "metadata": {},
   "outputs": [
    {
     "data": {
      "text/html": [
       "<div>\n",
       "<style scoped>\n",
       "    .dataframe tbody tr th:only-of-type {\n",
       "        vertical-align: middle;\n",
       "    }\n",
       "\n",
       "    .dataframe tbody tr th {\n",
       "        vertical-align: top;\n",
       "    }\n",
       "\n",
       "    .dataframe thead th {\n",
       "        text-align: right;\n",
       "    }\n",
       "</style>\n",
       "<table border=\"1\" class=\"dataframe\">\n",
       "  <thead>\n",
       "    <tr style=\"text-align: right;\">\n",
       "      <th>index</th>\n",
       "      <th>Banner</th>\n",
       "      <th>UPC</th>\n",
       "      <th>Northern California</th>\n",
       "      <th>New York</th>\n",
       "      <th>Kansas</th>\n",
       "      <th>Texas</th>\n",
       "      <th>NC/T</th>\n",
       "    </tr>\n",
       "  </thead>\n",
       "  <tbody>\n",
       "    <tr>\n",
       "      <td>248</td>\n",
       "      <td>Safeway</td>\n",
       "      <td>269161785</td>\n",
       "      <td>40.29</td>\n",
       "      <td>NaN</td>\n",
       "      <td>48.89</td>\n",
       "      <td>49.39</td>\n",
       "      <td>0.815752</td>\n",
       "    </tr>\n",
       "    <tr>\n",
       "      <td>2234</td>\n",
       "      <td>Walmart</td>\n",
       "      <td>301161010</td>\n",
       "      <td>38.17</td>\n",
       "      <td>33.82</td>\n",
       "      <td>32.54</td>\n",
       "      <td>42.79</td>\n",
       "      <td>0.892031</td>\n",
       "    </tr>\n",
       "  </tbody>\n",
       "</table>\n",
       "</div>"
      ],
      "text/plain": [
       "index   Banner        UPC  Northern California  New York  Kansas  Texas  \\\n",
       "248    Safeway  269161785                40.29       NaN   48.89  49.39   \n",
       "2234   Walmart  301161010                38.17     33.82   32.54  42.79   \n",
       "\n",
       "index      NC/T  \n",
       "248    0.815752  \n",
       "2234   0.892031  "
      ]
     },
     "execution_count": 30,
     "metadata": {},
     "output_type": "execute_result"
    }
   ],
   "source": [
    "#anomalies\n",
    "a[a['NC/T'] <1]"
   ]
  },
  {
   "cell_type": "markdown",
   "metadata": {},
   "source": [
    "#### checking the mean, count, max, min, 25%, 50%, 75% values in all the regions"
   ]
  },
  {
   "cell_type": "code",
   "execution_count": 31,
   "metadata": {},
   "outputs": [
    {
     "data": {
      "text/html": [
       "<div>\n",
       "<style scoped>\n",
       "    .dataframe tbody tr th:only-of-type {\n",
       "        vertical-align: middle;\n",
       "    }\n",
       "\n",
       "    .dataframe tbody tr th {\n",
       "        vertical-align: top;\n",
       "    }\n",
       "\n",
       "    .dataframe thead th {\n",
       "        text-align: right;\n",
       "    }\n",
       "</style>\n",
       "<table border=\"1\" class=\"dataframe\">\n",
       "  <thead>\n",
       "    <tr style=\"text-align: right;\">\n",
       "      <th>index</th>\n",
       "      <th>UPC</th>\n",
       "      <th>Northern California</th>\n",
       "      <th>New York</th>\n",
       "      <th>Kansas</th>\n",
       "      <th>Texas</th>\n",
       "    </tr>\n",
       "  </thead>\n",
       "  <tbody>\n",
       "    <tr>\n",
       "      <td>count</td>\n",
       "      <td>4.931000e+03</td>\n",
       "      <td>1634.000000</td>\n",
       "      <td>3025.000000</td>\n",
       "      <td>3087.000000</td>\n",
       "      <td>3765.000000</td>\n",
       "    </tr>\n",
       "    <tr>\n",
       "      <td>mean</td>\n",
       "      <td>5.088255e+08</td>\n",
       "      <td>35.437907</td>\n",
       "      <td>30.971137</td>\n",
       "      <td>21.390198</td>\n",
       "      <td>30.084550</td>\n",
       "    </tr>\n",
       "    <tr>\n",
       "      <td>std</td>\n",
       "      <td>2.878944e+08</td>\n",
       "      <td>19.586411</td>\n",
       "      <td>17.219599</td>\n",
       "      <td>18.610435</td>\n",
       "      <td>16.709557</td>\n",
       "    </tr>\n",
       "    <tr>\n",
       "      <td>min</td>\n",
       "      <td>1.187317e+07</td>\n",
       "      <td>0.690000</td>\n",
       "      <td>0.590000</td>\n",
       "      <td>0.690000</td>\n",
       "      <td>0.590000</td>\n",
       "    </tr>\n",
       "    <tr>\n",
       "      <td>25%</td>\n",
       "      <td>2.661121e+08</td>\n",
       "      <td>19.177500</td>\n",
       "      <td>16.790000</td>\n",
       "      <td>1.990000</td>\n",
       "      <td>16.290000</td>\n",
       "    </tr>\n",
       "    <tr>\n",
       "      <td>50%</td>\n",
       "      <td>5.090565e+08</td>\n",
       "      <td>34.840000</td>\n",
       "      <td>30.720000</td>\n",
       "      <td>17.690000</td>\n",
       "      <td>29.840000</td>\n",
       "    </tr>\n",
       "    <tr>\n",
       "      <td>75%</td>\n",
       "      <td>7.644589e+08</td>\n",
       "      <td>51.590000</td>\n",
       "      <td>45.190000</td>\n",
       "      <td>37.490000</td>\n",
       "      <td>44.060000</td>\n",
       "    </tr>\n",
       "    <tr>\n",
       "      <td>max</td>\n",
       "      <td>9.991851e+08</td>\n",
       "      <td>74.490000</td>\n",
       "      <td>66.090000</td>\n",
       "      <td>59.990000</td>\n",
       "      <td>63.890000</td>\n",
       "    </tr>\n",
       "  </tbody>\n",
       "</table>\n",
       "</div>"
      ],
      "text/plain": [
       "index           UPC  Northern California     New York       Kansas  \\\n",
       "count  4.931000e+03          1634.000000  3025.000000  3087.000000   \n",
       "mean   5.088255e+08            35.437907    30.971137    21.390198   \n",
       "std    2.878944e+08            19.586411    17.219599    18.610435   \n",
       "min    1.187317e+07             0.690000     0.590000     0.690000   \n",
       "25%    2.661121e+08            19.177500    16.790000     1.990000   \n",
       "50%    5.090565e+08            34.840000    30.720000    17.690000   \n",
       "75%    7.644589e+08            51.590000    45.190000    37.490000   \n",
       "max    9.991851e+08            74.490000    66.090000    59.990000   \n",
       "\n",
       "index        Texas  \n",
       "count  3765.000000  \n",
       "mean     30.084550  \n",
       "std      16.709557  \n",
       "min       0.590000  \n",
       "25%      16.290000  \n",
       "50%      29.840000  \n",
       "75%      44.060000  \n",
       "max      63.890000  "
      ]
     },
     "execution_count": 31,
     "metadata": {},
     "output_type": "execute_result"
    }
   ],
   "source": [
    "Table_IndexOrder.describe()"
   ]
  },
  {
   "cell_type": "markdown",
   "metadata": {},
   "source": [
    "#### Visualizing the Table_IndexOrder"
   ]
  },
  {
   "cell_type": "code",
   "execution_count": 33,
   "metadata": {},
   "outputs": [
    {
     "name": "stderr",
     "output_type": "stream",
     "text": [
      "C:\\Users\\vinee\\Anaconda5\\lib\\site-packages\\numpy\\lib\\histograms.py:824: RuntimeWarning: invalid value encountered in greater_equal\n",
      "  keep = (tmp_a >= first_edge)\n",
      "C:\\Users\\vinee\\Anaconda5\\lib\\site-packages\\numpy\\lib\\histograms.py:825: RuntimeWarning: invalid value encountered in less_equal\n",
      "  keep &= (tmp_a <= last_edge)\n"
     ]
    },
    {
     "data": {
      "text/plain": [
       "(array([ 34., 967.,  42.,  47.,  29.,  46.,  46.,  30.,  40.,  44.,  51.,\n",
       "         49.,  46.,  56.,  51.,  54.,  44.,  35.,  46.,  52.,  44.,  37.,\n",
       "         49.,  46.,  47.,  40.,  40.,  50.,  42.,  51.,  58.,  51.,  52.,\n",
       "         48.,  34.,  38.,  48.,  42.,  51.,  41.,  42.,  42.,  49.,  49.,\n",
       "         45.,  36.,  39.,  35.,  17.,  15.]),\n",
       " array([ 0.69 ,  1.876,  3.062,  4.248,  5.434,  6.62 ,  7.806,  8.992,\n",
       "        10.178, 11.364, 12.55 , 13.736, 14.922, 16.108, 17.294, 18.48 ,\n",
       "        19.666, 20.852, 22.038, 23.224, 24.41 , 25.596, 26.782, 27.968,\n",
       "        29.154, 30.34 , 31.526, 32.712, 33.898, 35.084, 36.27 , 37.456,\n",
       "        38.642, 39.828, 41.014, 42.2  , 43.386, 44.572, 45.758, 46.944,\n",
       "        48.13 , 49.316, 50.502, 51.688, 52.874, 54.06 , 55.246, 56.432,\n",
       "        57.618, 58.804, 59.99 ]),\n",
       " <a list of 50 Patch objects>)"
      ]
     },
     "execution_count": 33,
     "metadata": {},
     "output_type": "execute_result"
    },
    {
     "data": {
      "image/png": "[encoded data removed]",
      "text/plain": [
       "<Figure size 432x288 with 1 Axes>"
      ]
     },
     "metadata": {
      "needs_background": "light"
     },
     "output_type": "display_data"
    }
   ],
   "source": [
    "plt.hist(Table_IndexOrder['Kansas'], bins = 50)\n",
    "#from the distribution we can say that prices in the kansas city are very less"
   ]
  },
  {
   "cell_type": "code",
   "execution_count": 34,
   "metadata": {},
   "outputs": [
    {
     "data": {
      "text/plain": [
       "1.99     917\n",
       "17.89      8\n",
       "16.29      8\n",
       "7.79       7\n",
       "56.69      7\n",
       "        ... \n",
       "51.64      1\n",
       "30.31      1\n",
       "59.99      1\n",
       "16.02      1\n",
       "10.50      1\n",
       "Name: Kansas, Length: 1102, dtype: int64"
      ]
     },
     "execution_count": 34,
     "metadata": {},
     "output_type": "execute_result"
    }
   ],
   "source": [
    "Table_IndexOrder['Kansas'].value_counts()\n",
    "#from the below value_counts 1.99 has 917 records out of 1102 which is 83%. "
   ]
  },
  {
   "cell_type": "code",
   "execution_count": 35,
   "metadata": {},
   "outputs": [
    {
     "data": {
      "text/plain": [
       "(array([27., 38., 31., 44., 24., 37., 24., 27., 31., 33., 37., 36., 29.,\n",
       "        36., 48., 43., 28., 32., 49., 40., 28., 43., 47., 32., 32., 32.,\n",
       "        42., 38., 39., 33., 49., 31., 39., 29., 31., 34., 33., 30., 38.,\n",
       "        36., 35., 34., 32., 31., 24., 14., 17., 14., 16.,  7.]),\n",
       " array([ 0.69 ,  2.166,  3.642,  5.118,  6.594,  8.07 ,  9.546, 11.022,\n",
       "        12.498, 13.974, 15.45 , 16.926, 18.402, 19.878, 21.354, 22.83 ,\n",
       "        24.306, 25.782, 27.258, 28.734, 30.21 , 31.686, 33.162, 34.638,\n",
       "        36.114, 37.59 , 39.066, 40.542, 42.018, 43.494, 44.97 , 46.446,\n",
       "        47.922, 49.398, 50.874, 52.35 , 53.826, 55.302, 56.778, 58.254,\n",
       "        59.73 , 61.206, 62.682, 64.158, 65.634, 67.11 , 68.586, 70.062,\n",
       "        71.538, 73.014, 74.49 ]),\n",
       " <a list of 50 Patch objects>)"
      ]
     },
     "execution_count": 35,
     "metadata": {},
     "output_type": "execute_result"
    },
    {
     "data": {
      "image/png": "[encoded data removed]",
      "text/plain": [
       "<Figure size 432x288 with 1 Axes>"
      ]
     },
     "metadata": {
      "needs_background": "light"
     },
     "output_type": "display_data"
    }
   ],
   "source": [
    "plt.hist(Table_IndexOrder['Northern California'], bins = 50)\n",
    "#The values are spread out that means it has prices in all ranges in Northern california."
   ]
  },
  {
   "cell_type": "code",
   "execution_count": 36,
   "metadata": {},
   "outputs": [
    {
     "data": {
      "text/plain": [
       "(array([ 60.,  92.,  81.,  90.,  67.,  75.,  62.,  64.,  65.,  73.,  98.,\n",
       "         75.,  93., 104.,  94.,  95.,  71.,  68.,  91.,  84.,  94.,  89.,\n",
       "         87.,  84.,  74.,  80.,  80.,  99.,  98.,  96., 104.,  79.,  64.,\n",
       "         68.,  78.,  69.,  75.,  75.,  73.,  86.,  85.,  70.,  84.,  85.,\n",
       "         67.,  46.,  38.,  13.,  13.,  10.]),\n",
       " array([ 0.59 ,  1.856,  3.122,  4.388,  5.654,  6.92 ,  8.186,  9.452,\n",
       "        10.718, 11.984, 13.25 , 14.516, 15.782, 17.048, 18.314, 19.58 ,\n",
       "        20.846, 22.112, 23.378, 24.644, 25.91 , 27.176, 28.442, 29.708,\n",
       "        30.974, 32.24 , 33.506, 34.772, 36.038, 37.304, 38.57 , 39.836,\n",
       "        41.102, 42.368, 43.634, 44.9  , 46.166, 47.432, 48.698, 49.964,\n",
       "        51.23 , 52.496, 53.762, 55.028, 56.294, 57.56 , 58.826, 60.092,\n",
       "        61.358, 62.624, 63.89 ]),\n",
       " <a list of 50 Patch objects>)"
      ]
     },
     "execution_count": 36,
     "metadata": {},
     "output_type": "execute_result"
    },
    {
     "data": {
      "image/png": "[encoded data removed]",
      "text/plain": [
       "<Figure size 432x288 with 1 Axes>"
      ]
     },
     "metadata": {
      "needs_background": "light"
     },
     "output_type": "display_data"
    }
   ],
   "source": [
    "plt.hist(Table_IndexOrder['Texas'], bins = 50)\n",
    "#The prices in Texas are spread out in all ranges."
   ]
  },
  {
   "cell_type": "code",
   "execution_count": 75,
   "metadata": {},
   "outputs": [
    {
     "data": {
      "text/plain": [
       "(array([54., 68., 62., 64., 56., 62., 54., 57., 51., 70., 69., 65., 60.,\n",
       "        84., 89., 81., 62., 61., 72., 74., 74., 62., 62., 56., 65., 60.,\n",
       "        73., 73., 84., 74., 80., 67., 63., 56., 72., 48., 56., 62., 56.,\n",
       "        79., 70., 61., 61., 56., 40., 28., 18., 26., 15., 13.]),\n",
       " array([ 0.59,  1.9 ,  3.21,  4.52,  5.83,  7.14,  8.45,  9.76, 11.07,\n",
       "        12.38, 13.69, 15.  , 16.31, 17.62, 18.93, 20.24, 21.55, 22.86,\n",
       "        24.17, 25.48, 26.79, 28.1 , 29.41, 30.72, 32.03, 33.34, 34.65,\n",
       "        35.96, 37.27, 38.58, 39.89, 41.2 , 42.51, 43.82, 45.13, 46.44,\n",
       "        47.75, 49.06, 50.37, 51.68, 52.99, 54.3 , 55.61, 56.92, 58.23,\n",
       "        59.54, 60.85, 62.16, 63.47, 64.78, 66.09]),\n",
       " <a list of 50 Patch objects>)"
      ]
     },
     "execution_count": 75,
     "metadata": {},
     "output_type": "execute_result"
    },
    {
     "data": {
      "image/png": "[encoded data removed]",
      "text/plain": [
       "<Figure size 432x288 with 1 Axes>"
      ]
     },
     "metadata": {
      "needs_background": "light"
     },
     "output_type": "display_data"
    }
   ],
   "source": [
    "plt.hist(Table_IndexOrder['New York'], bins = 50)\n",
    "#The prices in New York are spread out in all ranges."
   ]
  },
  {
   "cell_type": "markdown",
   "metadata": {},
   "source": [
    "#### From the above Histogram Distributions it is evident that the Product Price data is Spread out uniformly in Northern california, Texas, New York regions. However, Products Price Points in the Kansas regions are highly skewed with 1.99 being the most predominant price point.\n",
    "\n",
    "#### From the describe table above , we can see that the mean product price in the Kansas  is 21.39, max product price is 59, 75% value is 37.49 and 25% is 1.99. However, there is a considerable difference in the25%, 50%, mean and max value for the other regions.\n",
    "\n",
    "#### From the data we can say that the average product price in the Northern California  is higher than Kansas, New York and Texas. "
   ]
  },
  {
   "cell_type": "markdown",
   "metadata": {},
   "source": [
    "# Heat map\n"
   ]
  },
  {
   "cell_type": "code",
   "execution_count": 37,
   "metadata": {},
   "outputs": [
    {
     "data": {
      "image/png": "[encoded data removed]",
      "text/plain": [
       "<Figure size 864x576 with 2 Axes>"
      ]
     },
     "metadata": {
      "needs_background": "light"
     },
     "output_type": "display_data"
    }
   ],
   "source": [
    "Plot_CrossHeatMap=plt.figure(figsize=(12,8))\n",
    "ax=Plot_CrossHeatMap.add_subplot(111)\n",
    "sns.heatmap(CrossTable, cbar=True)\n",
    "ax.set_title(\"Heatmap of price compare cross the region\",fontsize = 16)\n",
    "plt.tight_layout()\n",
    "plt.show()"
   ]
  },
  {
   "cell_type": "markdown",
   "metadata": {},
   "source": [
    "\n",
    "\n",
    "#### From the heatmap , we can see that there are'nt any price points under Wholefoods banner in Kansas, Safeway banner in New York, and Wegmans banner in Northern California. This hints that either data is missing or the absence of these banners in those States, and thus warrants a data recheck."
   ]
  },
  {
   "cell_type": "markdown",
   "metadata": {},
   "source": [
    "# Summary on anomalies\n",
    "\n",
    "####  The pricepoint , 1.99 , gets repeated a 917 times in Kansas , amouting to a whooping 83% of the price points. This clearly indicates an anomoly and points to a systemic error in data collection as a single value has got repeated so many times.\n",
    "\n",
    "#### There are'nt any data point for Wegmans Banner in Northern california and for Safeway Banner in New York , indicating that either the data was'nt colleceted or that there are'nt any Safeway stores in New York , and Wegmans Stores in Northern california.\n",
    "\n",
    "#### For Kansas less correlation with the prices in Whole Foods banner"
   ]
  },
  {
   "cell_type": "code",
   "execution_count": null,
   "metadata": {},
   "outputs": [],
   "source": []
  }
 ],
 "metadata": {
  "kernelspec": {
   "display_name": "Python 3",
   "language": "python",
   "name": "python3"
  },
  "language_info": {
   "codemirror_mode": {
    "name": "ipython",
    "version": 3
   },
   "file_extension": ".py",
   "mimetype": "text/x-python",
   "name": "python",
   "nbconvert_exporter": "python",
   "pygments_lexer": "ipython3",
   "version": "3.7.4"
  }
 },
 "nbformat": 4,
 "nbformat_minor": 2
}
